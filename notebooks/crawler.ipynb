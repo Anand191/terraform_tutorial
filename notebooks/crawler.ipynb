{
 "cells": [
  {
   "cell_type": "code",
   "execution_count": null,
   "metadata": {},
   "outputs": [],
   "source": [
    "import os\n",
    "\n",
    "import dotenv\n",
    "import bs4\n",
    "import requests\n",
    "import re\n",
    "import yaml\n",
    "import chromadb\n",
    "import dspy\n",
    "from google.oauth2 import service_account\n",
    "from langchain.text_splitter import SentenceTransformersTokenTextSplitter\n",
    "from dspy.retrieve.chromadb_rm import ChromadbRM\n",
    "from dsp.modules import GoogleVertexAI\n",
    "from chromadb.utils import embedding_functions\n",
    "from tqdm.notebook import tqdm\n",
    "from redis import Redis\n"
   ]
  },
  {
   "cell_type": "code",
   "execution_count": null,
   "metadata": {},
   "outputs": [],
   "source": [
    "# !gcloud auth login\n",
    "# !gcloud auth application-default login"
   ]
  },
  {
   "cell_type": "markdown",
   "metadata": {},
   "source": [
    "## Crawler"
   ]
  },
  {
   "cell_type": "code",
   "execution_count": null,
   "metadata": {},
   "outputs": [],
   "source": [
    "URL = \"https://en.wikipedia.org/wiki/Go_(game)\"\n",
    "URL_LOCAL = URL.split(\"/\")[-1]\n",
    "URL_LOCAL = re.sub(r'\\W+', '', URL_LOCAL)"
   ]
  },
  {
   "cell_type": "code",
   "execution_count": null,
   "metadata": {},
   "outputs": [],
   "source": [
    "response = requests.get(url=URL)\n",
    "soup = bs4.BeautifulSoup(response.content, \"html.parser\")\n",
    "\n",
    "parsed = {}\n",
    "p_counter = 0\n",
    "all_titles = soup.find_all(\"h2\")[1:]\n",
    "for title in all_titles:\n",
    "    header = title.span[\"id\"].strip()\n",
    "    textContent = {}\n",
    "    for para in title.find_next_siblings(\"p\"):\n",
    "        if header in para.find_previous_siblings(\"h2\")[0].span[\"id\"].strip():\n",
    "            textContent[p_counter] = para.text.strip()\n",
    "            p_counter += 1\n",
    "    if textContent:\n",
    "        parsed[header] = textContent\n"
   ]
  },
  {
   "cell_type": "markdown",
   "metadata": {},
   "source": [
    "## Vectorize"
   ]
  },
  {
   "cell_type": "code",
   "execution_count": null,
   "metadata": {},
   "outputs": [],
   "source": [
    "CHROMA_COLLECTION_NAME = f\"wiki_{URL_LOCAL}\"\n",
    "CHROMADB_DIR = \"../db/\""
   ]
  },
  {
   "cell_type": "code",
   "execution_count": null,
   "metadata": {},
   "outputs": [],
   "source": [
    "chroma_client = chromadb.PersistentClient(path=CHROMADB_DIR)\n",
    "collection = chroma_client.get_or_create_collection(name=CHROMA_COLLECTION_NAME)\n",
    "text_splitter = SentenceTransformersTokenTextSplitter()"
   ]
  },
  {
   "cell_type": "code",
   "execution_count": null,
   "metadata": {},
   "outputs": [],
   "source": [
    "num_paragraphs = list(parsed[list(parsed.keys())[-1]].keys())[-1]\n",
    "for header, paragraphs in tqdm(parsed.items()):\n",
    "    for id, text in tqdm(paragraphs.items()):\n",
    "        # split the text into chunks and insert into chromadb\n",
    "        ids = []\n",
    "        documents = []\n",
    "        metadatas = []\n",
    "        chunks = text_splitter.create_documents([text]) # takes array of documents\n",
    "        for chunk_no, chunk in enumerate(chunks):\n",
    "            ids.append(f\"pid_{id}#{chunk_no}\")\n",
    "            documents.append(chunk.page_content)\n",
    "            metadatas.append({\"title\": header, \"source\": URL})\n",
    "        if ids:\n",
    "            collection.upsert(ids=ids, documents=documents, metadatas=metadatas)\n",
    "        # print(f\"{int(0.5 + 100.0 * id / num_paragraphs)}% ({collection.count()})\", end=\" \", flush=True)\n",
    "        # if id % 10 == 0:\n",
    "        #     print()\n",
    "\n"
   ]
  },
  {
   "cell_type": "markdown",
   "metadata": {},
   "source": [
    "### Test retriever"
   ]
  },
  {
   "cell_type": "code",
   "execution_count": null,
   "metadata": {},
   "outputs": [],
   "source": [
    "def Retriever(collection, db_dir):\n",
    "    \"\"\"\n",
    "    Retreives rules for bidding in bridge.\n",
    "    This is just a retriever and does not have any language model.\n",
    "    \"\"\"\n",
    "    default_ef = embedding_functions.DefaultEmbeddingFunction()\n",
    "    return ChromadbRM(collection, db_dir, default_ef, k=3)"
   ]
  },
  {
   "cell_type": "code",
   "execution_count": null,
   "metadata": {},
   "outputs": [],
   "source": [
    "question = \"What is GO?\"\n",
    "retrieved = Retriever(CHROMA_COLLECTION_NAME, CHROMADB_DIR)(question)\n",
    "print(\"vector store:\", retrieved)"
   ]
  },
  {
   "cell_type": "markdown",
   "metadata": {},
   "source": [
    "## Test LM"
   ]
  },
  {
   "cell_type": "code",
   "execution_count": null,
   "metadata": {},
   "outputs": [],
   "source": [
    "with open(\"../ai_assistant/config.yaml\") as f:\n",
    "    cfg = yaml.load(f, Loader=yaml.FullLoader)\n",
    "cfg"
   ]
  },
  {
   "cell_type": "code",
   "execution_count": null,
   "metadata": {},
   "outputs": [],
   "source": [
    "dotenv.load_dotenv(dotenv.find_dotenv(\".env_dev\"))\n",
    "api_key = os.environ.get(\"GOOGLE_API_KEY\")\n",
    "# print(api_key)\n",
    "credentials = service_account.Credentials.from_service_account_file(api_key)"
   ]
  },
  {
   "cell_type": "code",
   "execution_count": null,
   "metadata": {},
   "outputs": [],
   "source": [
    "gemini = GoogleVertexAI(\n",
    "    model_name=\"gemini-1.0-pro-002\",\n",
    "    project=\"deft-weaver-396616\",\n",
    "    location=\"us-central1\",\n",
    "    credentials=credentials\n",
    ")\n",
    "dspy.settings.configure(lm=gemini, temperature=0.25, max_tokens=1024)"
   ]
  },
  {
   "cell_type": "code",
   "execution_count": null,
   "metadata": {},
   "outputs": [],
   "source": [
    "class AdvisorSignature(dspy.Signature):\n",
    "    context = dspy.InputField(format=str) # function to call on input to make it a string\n",
    "    question = dspy.InputField() # function to call on input to make it a string\n",
    "    answer = dspy.OutputField()"
   ]
  },
  {
   "cell_type": "code",
   "execution_count": null,
   "metadata": {},
   "outputs": [],
   "source": [
    "class ZeroShot(dspy.Module):\n",
    "    \"\"\"\n",
    "    Provide answer to question\n",
    "    \"\"\"\n",
    "    def __init__(self):\n",
    "        super().__init__()\n",
    "        self.prog = dspy.Predict(\"question -> answer\")\n",
    "\n",
    "    def forward(self, question):\n",
    "        return self.prog(question=question)\n",
    "\n",
    "class wiki_assistant(dspy.Module):\n",
    "    def __init__(self):\n",
    "        super().__init__()\n",
    "        self.prog = dspy.ChainOfThought(AdvisorSignature, n=3)\n",
    "\n",
    "    def forward(self, question, retriver_collection, database_loc):\n",
    "        retrieved = Retriever(retriver_collection, database_loc)(question)\n",
    "        prediction =  self.prog(\n",
    "            context=retrieved,\n",
    "            question=question\n",
    "        )\n",
    "        return dspy.Prediction(context=retrieved, answer=prediction.answer)"
   ]
  },
  {
   "cell_type": "code",
   "execution_count": null,
   "metadata": {},
   "outputs": [],
   "source": [
    "QUESTION = \"Which among the three is more difficult, chess, backgammon or GO?\""
   ]
  },
  {
   "cell_type": "code",
   "execution_count": null,
   "metadata": {},
   "outputs": [],
   "source": [
    "zs_assistant = ZeroShot()\n",
    "response = zs_assistant(QUESTION)\n",
    "print(f\"The answer of the non RAG agent is: \\n {response.answer}\")\n",
    "\n",
    "print(\"\\n\")\n",
    "\n",
    "cot_assistant = wiki_assistant()\n",
    "response = cot_assistant(QUESTION, CHROMA_COLLECTION_NAME, CHROMADB_DIR)\n",
    "print(f\"The answer of the RAG agent is: \\n {response.answer}\")"
   ]
  },
  {
   "cell_type": "code",
   "execution_count": null,
   "metadata": {},
   "outputs": [],
   "source": [
    "# gemini.inspect_history(n=3)"
   ]
  },
  {
   "cell_type": "markdown",
   "metadata": {},
   "source": [
    "## Cache"
   ]
  },
  {
   "cell_type": "code",
   "execution_count": null,
   "metadata": {},
   "outputs": [],
   "source": [
    "redis_host = \"127.0.0.1\"\n",
    "r = Redis(host=redis_host, port=6379, decode_responses=True)"
   ]
  },
  {
   "cell_type": "code",
   "execution_count": null,
   "metadata": {},
   "outputs": [],
   "source": [
    "r.set(\"foo\", \"bar\")\n",
    "r.get(\"foo\")"
   ]
  },
  {
   "cell_type": "markdown",
   "metadata": {},
   "source": [
    "### TODO:\n",
    "- check if given url exists in Redis\n",
    "  - If yes: Fetch path of persisted vector db\n",
    "  - If no or update=True: scrape wiki page, preprocess and persist to vector dd and persist vdb obj to storage "
   ]
  },
  {
   "cell_type": "markdown",
   "metadata": {},
   "source": []
  }
 ],
 "metadata": {
  "kernelspec": {
   "display_name": "ai-assistant-hI888qGs-py3.11",
   "language": "python",
   "name": "python3"
  },
  "language_info": {
   "codemirror_mode": {
    "name": "ipython",
    "version": 3
   },
   "file_extension": ".py",
   "mimetype": "text/x-python",
   "name": "python",
   "nbconvert_exporter": "python",
   "pygments_lexer": "ipython3",
   "version": "3.11.9"
  }
 },
 "nbformat": 4,
 "nbformat_minor": 2
}

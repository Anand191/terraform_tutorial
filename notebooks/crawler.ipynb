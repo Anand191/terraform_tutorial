{
 "cells": [
  {
   "cell_type": "code",
   "execution_count": null,
   "metadata": {},
   "outputs": [],
   "source": [
    "import bs4\n",
    "import requests\n",
    "import re\n",
    "import chromadb\n",
    "from langchain.text_splitter import SentenceTransformersTokenTextSplitter\n",
    "from dspy.retrieve.chromadb_rm import ChromadbRM\n",
    "from chromadb.utils import embedding_functions\n",
    "from redis import Redis\n"
   ]
  },
  {
   "cell_type": "markdown",
   "metadata": {},
   "source": [
    "## Crawler"
   ]
  },
  {
   "cell_type": "code",
   "execution_count": null,
   "metadata": {},
   "outputs": [],
   "source": [
    "URL = \"https://en.wikipedia.org/wiki/Go_(game)\"\n",
    "URL_LOCAL = URL.split(\"/\")[-1]\n",
    "URL_LOCAL = re.sub(r'\\W+', '', URL_LOCAL)"
   ]
  },
  {
   "cell_type": "code",
   "execution_count": null,
   "metadata": {},
   "outputs": [],
   "source": [
    "response = requests.get(url=URL)\n",
    "soup = bs4.BeautifulSoup(response.content, \"html.parser\")\n",
    "\n",
    "parsed = {}\n",
    "p_counter = 0\n",
    "all_titles = soup.find_all(\"h2\")[1:]\n",
    "for title in all_titles:\n",
    "    header = title.span[\"id\"].strip()\n",
    "    textContent = {}\n",
    "    for para in title.find_next_siblings(\"p\"):\n",
    "        if header in para.find_previous_siblings(\"h2\")[0].span[\"id\"].strip():\n",
    "            textContent[p_counter] = para.text.strip()\n",
    "            p_counter += 1\n",
    "    if textContent:\n",
    "        parsed[header] = textContent\n"
   ]
  },
  {
   "cell_type": "markdown",
   "metadata": {},
   "source": [
    "## Vectorize"
   ]
  },
  {
   "cell_type": "code",
   "execution_count": null,
   "metadata": {},
   "outputs": [],
   "source": [
    "CHROMA_COLLECTION_NAME = f\"wiki_{URL_LOCAL}\"\n",
    "CHROMADB_DIR = \"../db/\""
   ]
  },
  {
   "cell_type": "code",
   "execution_count": null,
   "metadata": {},
   "outputs": [],
   "source": [
    "chroma_client = chromadb.PersistentClient(path=CHROMADB_DIR)\n",
    "collection = chroma_client.get_or_create_collection(name=CHROMA_COLLECTION_NAME)\n",
    "text_splitter = SentenceTransformersTokenTextSplitter()"
   ]
  },
  {
   "cell_type": "code",
   "execution_count": null,
   "metadata": {},
   "outputs": [],
   "source": [
    "num_paragraphs = list(parsed[list(parsed.keys())[-1]].keys())[-1]\n",
    "for header, paragraphs in parsed.items():\n",
    "    for id, text in paragraphs.items():\n",
    "        # split the text into chunks and insert into chromadb\n",
    "        ids = []\n",
    "        documents = []\n",
    "        metadatas = []\n",
    "        chunks = text_splitter.create_documents([text]) # takes array of documents\n",
    "        for chunk_no, chunk in enumerate(chunks):\n",
    "            ids.append(f\"pid_{id}#{chunk_no}\")\n",
    "            documents.append(chunk.page_content)\n",
    "            metadatas.append({\"title\": header, \"source\": URL})\n",
    "        if ids:\n",
    "            collection.upsert(ids=ids, documents=documents, metadatas=metadatas)\n",
    "        print(f\"{int(0.5 + 100.0 * id / num_paragraphs)}% ({collection.count()})\", end=\" \", flush=True)\n",
    "        if id % 10 == 0:\n",
    "            print()\n",
    "\n"
   ]
  },
  {
   "cell_type": "markdown",
   "metadata": {},
   "source": [
    "### Test retriever"
   ]
  },
  {
   "cell_type": "code",
   "execution_count": null,
   "metadata": {},
   "outputs": [],
   "source": [
    "def Retriever():\n",
    "    \"\"\"\n",
    "    Retreives rules for bidding in bridge.\n",
    "    This is just a retriever and does not have any language model.\n",
    "    \"\"\"\n",
    "    default_ef = embedding_functions.DefaultEmbeddingFunction()\n",
    "    return ChromadbRM(CHROMA_COLLECTION_NAME, CHROMADB_DIR, default_ef, k=3)"
   ]
  },
  {
   "cell_type": "code",
   "execution_count": null,
   "metadata": {},
   "outputs": [],
   "source": [
    "question = \"What is GO?\"\n",
    "retrieved = Retriever()(question)\n",
    "print(\"vector store:\", retrieved)"
   ]
  },
  {
   "cell_type": "markdown",
   "metadata": {},
   "source": [
    "## Cache"
   ]
  },
  {
   "cell_type": "code",
   "execution_count": null,
   "metadata": {},
   "outputs": [],
   "source": [
    "redis_host = \"127.0.0.1\"\n",
    "r = Redis(host=redis_host, port=6379, decode_responses=True)"
   ]
  },
  {
   "cell_type": "code",
   "execution_count": null,
   "metadata": {},
   "outputs": [],
   "source": [
    "r.set(\"foo\", \"bar\")\n",
    "r.get(\"foo\")"
   ]
  },
  {
   "cell_type": "markdown",
   "metadata": {},
   "source": [
    "### TODO:\n",
    "- check if given url exists in Redis\n",
    "  - If yes: Fetch path of persisted vector db\n",
    "  - If no or update=True: scrape wiki page, preprocess and persist to vector dd and persist vdb obj to storage "
   ]
  },
  {
   "cell_type": "markdown",
   "metadata": {},
   "source": []
  }
 ],
 "metadata": {
  "kernelspec": {
   "display_name": "ai-assistant-hI888qGs-py3.11",
   "language": "python",
   "name": "python3"
  },
  "language_info": {
   "codemirror_mode": {
    "name": "ipython",
    "version": 3
   },
   "file_extension": ".py",
   "mimetype": "text/x-python",
   "name": "python",
   "nbconvert_exporter": "python",
   "pygments_lexer": "ipython3",
   "version": "3.11.9"
  }
 },
 "nbformat": 4,
 "nbformat_minor": 2
}

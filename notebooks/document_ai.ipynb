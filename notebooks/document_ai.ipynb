{
 "cells": [
  {
   "cell_type": "code",
   "execution_count": null,
   "metadata": {},
   "outputs": [],
   "source": [
    "import os\n",
    "import yaml\n",
    "import dotenv\n",
    "import pathlib\n",
    "\n",
    "from PyPDF2 import PdfReader, PdfWriter\n",
    "\n",
    "from google.oauth2 import service_account\n",
    "from google.api_core.client_options import ClientOptions\n",
    "from google.cloud import documentai  # type: ignore"
   ]
  },
  {
   "cell_type": "code",
   "execution_count": null,
   "metadata": {},
   "outputs": [],
   "source": [
    "with open(\"../ai_assistant/config.yaml\") as f:\n",
    "    cfg = yaml.load(f, Loader=yaml.FullLoader)\n",
    "cfg"
   ]
  },
  {
   "cell_type": "code",
   "execution_count": null,
   "metadata": {},
   "outputs": [],
   "source": [
    "dotenv.load_dotenv(dotenv.find_dotenv(\".env_dev\"))\n",
    "api_key = os.environ.get(\"GOOGLE_API_KEY\")\n",
    "credentials = service_account.Credentials.from_service_account_file(api_key)"
   ]
  },
  {
   "cell_type": "code",
   "execution_count": null,
   "metadata": {},
   "outputs": [],
   "source": [
    "project_id = cfg.get(\"project\")\n",
    "processor_id = cfg.get(\"documentAI\").get(\"processor\") # Format is \"us\" or \"eu\"\n",
    "location = cfg.get(\"documentAI\").get(\"region\") # Create processor before running sample\n",
    "max_pages = cfg.get(\"documentAI\").get(\"sync_max_pages\")\n",
    "file_path = \"/home/anand/Developer/Tutorials/terraform_tutorial/downloads/2404.19756v2.pdf\"\n",
    "mime_type = \"application/pdf\""
   ]
  },
  {
   "cell_type": "code",
   "execution_count": null,
   "metadata": {},
   "outputs": [],
   "source": [
    "def split_pdfs(path, pageLimit=15):\n",
    "    folder_path = pathlib.Path(\n",
    "        '/'.join(\n",
    "            path.split(\"/\")[:-1]\n",
    "        )\n",
    "    )\n",
    "    file_name = '.'.join(\n",
    "        path.split(\"/\")[-1]\\\n",
    "            .split(\".\")[:-1]\n",
    "    )\n",
    "    all_file_paths = []\n",
    "    pdf = PdfReader(path)\n",
    "    all_pages = pdf.pages\n",
    "    \n",
    "    page_breaks = [(pageLimit*i)+1 for i in range(1, (len(all_pages)//pageLimit)+1)]\n",
    "    if len(pdf.pages) % pageLimit != 0:\n",
    "        page_breaks.append(len(all_pages)+1)\n",
    "    page_counter = 1\n",
    "    page_start = 1\n",
    "\n",
    "    for i, pg_start in enumerate(page_breaks, 1):\n",
    "        fname = f\"{file_name}_{i}.pdf\"\n",
    "        writer = PdfWriter()\n",
    "        for j in range(page_start, pg_start):\n",
    "            writer.add_page(all_pages[j-1])\n",
    "            page_counter += 1\n",
    "        print(f\"writing from {page_start} to {page_counter-1}\")\n",
    "        with open(folder_path/fname, \"wb\") as outfile:\n",
    "            writer.write(outfile)\n",
    "        all_file_paths.append(folder_path/fname)\n",
    "        page_start = pg_start\n",
    "\n",
    "    return all_file_paths\n",
    "    \n",
    "\n",
    "all_files = split_pdfs(file_path)\n",
    "print(all_files)"
   ]
  },
  {
   "cell_type": "code",
   "execution_count": null,
   "metadata": {},
   "outputs": [],
   "source": [
    "def process_document_sample(\n",
    "    project_id: str,\n",
    "    location: str,\n",
    "    processor_id: str,\n",
    "    file_path: str,\n",
    "    mime_type: str,\n",
    ") -> None:\n",
    "    # You must set the `api_endpoint` if you use a location other than \"us\".\n",
    "    opts = ClientOptions(api_endpoint=f\"{location}-documentai.googleapis.com\")\n",
    "\n",
    "    client = documentai.DocumentProcessorServiceClient(client_options=opts)\n",
    "\n",
    "    name = client.processor_path(project_id, location, processor_id)\n",
    "\n",
    "    if len(PdfReader(file_path).pages) > max_pages:\n",
    "        all_files = split_pdfs(file_path, pageLimit=max_pages)\n",
    "    else:\n",
    "        all_files = [pathlib.Path(file_path)]\n",
    "\n",
    "    for f in all_files:\n",
    "        fname = pathlib.PurePath(f).parts[-1]\n",
    "        print(f\"Processing {fname}....\")\n",
    "        # Read the file into memory\n",
    "        with open(f, \"rb\") as image:\n",
    "            image_content = image.read()\n",
    "\n",
    "        # Load binary data\n",
    "        raw_document = documentai.RawDocument(content=image_content, mime_type=mime_type)\n",
    "\n",
    "        # For more information: https://cloud.google.com/document-ai/docs/reference/rest/v1/ProcessOptions\n",
    "        # Optional: Additional configurations for processing.\n",
    "        # process_options = documentai.ProcessOptions(\n",
    "        #     # Process only specific pages\n",
    "        #     individual_page_selector=documentai.ProcessOptions.IndividualPageSelector(\n",
    "        #         pages=[1]\n",
    "        #     )\n",
    "        # )\n",
    "\n",
    "        # Configure the process request\n",
    "        request = documentai.ProcessRequest(\n",
    "            name=name,\n",
    "            raw_document=raw_document\n",
    "        )\n",
    "\n",
    "        result = client.process_document(request=request)\n",
    "\n",
    "        # For a full list of `Document` object attributes, reference this page:\n",
    "        # https://cloud.google.com/document-ai/docs/reference/rest/v1/Document\n",
    "        document = result.document\n",
    "\n",
    "        # Read the text recognition output from the processor\n",
    "        print(\"The document contains the following text:\")\n",
    "        print(document.text)\n",
    "        break\n"
   ]
  },
  {
   "cell_type": "code",
   "execution_count": null,
   "metadata": {},
   "outputs": [],
   "source": [
    "process_document_sample(project_id, location, processor_id, file_path, mime_type)"
   ]
  },
  {
   "cell_type": "code",
   "execution_count": null,
   "metadata": {},
   "outputs": [],
   "source": []
  }
 ],
 "metadata": {
  "kernelspec": {
   "display_name": "ai-assistant-gfWmchf1-py3.11",
   "language": "python",
   "name": "python3"
  },
  "language_info": {
   "codemirror_mode": {
    "name": "ipython",
    "version": 3
   },
   "file_extension": ".py",
   "mimetype": "text/x-python",
   "name": "python",
   "nbconvert_exporter": "python",
   "pygments_lexer": "ipython3",
   "version": "3.11.9"
  }
 },
 "nbformat": 4,
 "nbformat_minor": 2
}

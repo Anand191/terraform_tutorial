{
 "cells": [
  {
   "cell_type": "markdown",
   "metadata": {},
   "source": [
    "# NB for testing whole pipeline"
   ]
  },
  {
   "cell_type": "code",
   "execution_count": 155,
   "metadata": {},
   "outputs": [
    {
     "name": "stdout",
     "output_type": "stream",
     "text": [
      "The autoreload extension is already loaded. To reload it, use:\n",
      "  %reload_ext autoreload\n"
     ]
    }
   ],
   "source": [
    "%load_ext autoreload\n",
    "%autoreload 2\n",
    "\n",
    "import sys\n",
    "import re\n",
    "import functools\n",
    "\n",
    "import dspy\n",
    "from loguru import logger\n",
    "from dspy.primitives.assertions import assert_transform_module, backtrack_handler\n",
    "\n",
    "from ai_assistant.main import store_webpage\n",
    "from ai_assistant.utils.db_utils import collection_cache\n",
    "from ai_assistant.generator import init_gemini_pro\n",
    "from ai_assistant.generator.qa import wiki_assistant\n",
    "from ai_assistant.retriever.vdb_retrieve import Retrieval"
   ]
  },
  {
   "cell_type": "code",
   "execution_count": 156,
   "metadata": {},
   "outputs": [
    {
     "data": {
      "text/plain": [
       "3"
      ]
     },
     "execution_count": 156,
     "metadata": {},
     "output_type": "execute_result"
    }
   ],
   "source": [
    "logger.remove()\n",
    "logger.add(sys.stderr, level=\"DEBUG\")"
   ]
  },
  {
   "cell_type": "markdown",
   "metadata": {},
   "source": [
    "## Define some constants to facilitate testing"
   ]
  },
  {
   "cell_type": "code",
   "execution_count": 33,
   "metadata": {},
   "outputs": [],
   "source": [
    "URL = \"https://en.wikipedia.org/wiki/Bhagavad_Gita\"\n",
    "URL_LOCAL = URL.split(\"/\")[-1]\n",
    "URL_LOCAL = re.sub(r\"\\W+\", \"\", URL_LOCAL)\n",
    "CHROMA_COLLECTION_NAME = f\"wiki_{URL_LOCAL}\"\n",
    "CHROMADB_DIR = \"../db/\"\n",
    "UPDATE = False\n",
    "TEMPERATURE = 0.1"
   ]
  },
  {
   "cell_type": "markdown",
   "metadata": {},
   "source": [
    "## Index URL if not already indexed\n",
    "Check if data from this wiki page already indexed or if update is enabled\n",
    "If not following steps:\n",
    "- Crawl data from wiki page\n",
    "- Index to vector db collection\n",
    "- Cache indexing infor to redis"
   ]
  },
  {
   "cell_type": "code",
   "execution_count": 3,
   "metadata": {},
   "outputs": [
    {
     "name": "stderr",
     "output_type": "stream",
     "text": [
      "\u001b[32m2024-05-13 14:17:52.325\u001b[0m | \u001b[1mINFO    \u001b[0m | \u001b[36m__main__\u001b[0m:\u001b[36m<module>\u001b[0m:\u001b[36m2\u001b[0m - \u001b[1mCheck if data from this wiki page already indexed\u001b[0m\n"
     ]
    }
   ],
   "source": [
    "\n",
    "conn = collection_cache()\n",
    "logger.info(\"Check if data from this wiki page already indexed\")\n",
    "if not conn.check(URL) or UPDATE:\n",
    "    logger.info(f\"(re)indexing data from {URL}\")\n",
    "    store_webpage(URL, CHROMA_COLLECTION_NAME, CHROMADB_DIR)"
   ]
  },
  {
   "cell_type": "markdown",
   "metadata": {},
   "source": [
    "## Ask Question(s)"
   ]
  },
  {
   "cell_type": "code",
   "execution_count": 136,
   "metadata": {},
   "outputs": [],
   "source": [
    "# Init Generator and Retriever\n",
    "retriever = Retrieval(CHROMA_COLLECTION_NAME, CHROMADB_DIR)\n",
    "gemini = init_gemini_pro(temperature=TEMPERATURE)\n",
    "dspy.settings.configure(lm=gemini, temperature=TEMPERATURE, max_tokens=1024, rm=retriever)"
   ]
  },
  {
   "cell_type": "code",
   "execution_count": 172,
   "metadata": {},
   "outputs": [
    {
     "name": "stderr",
     "output_type": "stream",
     "text": [
      "\u001b[32m2024-05-14 14:00:38.511\u001b[0m | \u001b[1mINFO    \u001b[0m | \u001b[36m__main__\u001b[0m:\u001b[36m<module>\u001b[0m:\u001b[36m7\u001b[0m - \u001b[1mAsk questions based on the wiki page about Bhagavad_Gita.\u001b[0m\n"
     ]
    }
   ],
   "source": [
    "\n",
    "dspy.configure(trace=[])\n",
    "assistant = assert_transform_module(\n",
    "    wiki_assistant(), backtrack_handler\n",
    "    # functools.partial(backtrack_handler, max_backtracks=2)\n",
    ")\n",
    "# assistant = wiki_assistant()\n",
    "logger.info(f\"Ask questions based on the wiki page about {URL_LOCAL}.\")"
   ]
  },
  {
   "cell_type": "code",
   "execution_count": 179,
   "metadata": {},
   "outputs": [],
   "source": [
    "QUESTION = \"What is described in the Samkhya Yoga chapter?\""
   ]
  },
  {
   "cell_type": "code",
   "execution_count": 180,
   "metadata": {},
   "outputs": [
    {
     "name": "stderr",
     "output_type": "stream",
     "text": [
      "\u001b[32m2024-05-14 14:02:21.778\u001b[0m | \u001b[34m\u001b[1mDEBUG   \u001b[0m | \u001b[36mai_assistant.generator.qa\u001b[0m:\u001b[36mforward\u001b[0m:\u001b[36m36\u001b[0m - \u001b[34m\u001b[1mBefore assertion = Prediction(\n",
      "    rationale='**Answer:**\\n\\nThe Samkhya Yoga chapter, also known as the \"Book of Doctrines\" or \"Self-Realization,\" initiates the philosophical discussions and teachings found in the Bhagavad Gita. It addresses Arjuna\\'s doubts and introspection about the meaning and purpose of life as he faces a war he questions. Krishna, as his guide, imparts knowledge about the eternal nature of the soul (atman) and the transient nature of the body. The chapter explores concepts such as rebirth (samsara), the universal self present in everyone, various yoga practices, and the divinity within. It encapsulates the framework of the Samkhya and Yoga schools of Hindu philosophy and serves as an overview for the remaining chapters of the Bhagavad Gita.',\n",
      "    answer='The Samkhya Yoga chapter, also known as the \"Book of Doctrines\" or \"Self-Realization,\" initiates the philosophical discussions and teachings found in the Bhagavad Gita. It addresses Arjuna\\'s doubts and introspection about the meaning and purpose of life as he faces a war he questions. Krishna, as his guide, imparts knowledge about the eternal nature of the'\n",
      ")\u001b[0m\n",
      "\u001b[2m2024-05-14T12:02:21.779554Z\u001b[0m [\u001b[31m\u001b[1merror    \u001b[0m] \u001b[1mSuggestionFailed: If answer begins with 'Context:' regenerate answer\u001b[0m [\u001b[0m\u001b[1m\u001b[34mdspy.primitives.assertions\u001b[0m]\u001b[0m \u001b[36mfilename\u001b[0m=\u001b[35massertions.py\u001b[0m \u001b[36mlineno\u001b[0m=\u001b[35m111\u001b[0m\n",
      "\u001b[32m2024-05-14 14:02:23.236\u001b[0m | \u001b[34m\u001b[1mDEBUG   \u001b[0m | \u001b[36mai_assistant.generator.qa\u001b[0m:\u001b[36mforward\u001b[0m:\u001b[36m36\u001b[0m - \u001b[34m\u001b[1mBefore assertion = Prediction(\n",
      "    answer='**The Samkhya Yoga chapter, also known as the \"Book of Doctrines\" or \"Self-Realization,\" initiates the philosophical discussions and teachings found in the Bhagavad Gita. It addresses Arjuna\\'s doubts and introspection about the meaning and purpose of life as he faces a war he questions. Krishna, as his guide, imparts knowledge about the eternal nature of the soul (atman) and the temporary nature of the body. The chapter summarizes the Hindu idea of rebirth, samsara, the eternal self in each person (self), the universal self present in everyone, various types of yoga, divinity within, the nature of knowledge of the self, and other concepts. It provides a framework for the remaining sixteen chapters of the Bhagavad Gita and reflects the ideas and concepts of the Samkhya and Yoga schools of Hindu philosophy.**'\n",
      ")\u001b[0m\n",
      "\u001b[2m2024-05-14T12:02:23.237800Z\u001b[0m [\u001b[31m\u001b[1merror    \u001b[0m] \u001b[1mSuggestionFailed: If answer begins with 'Context:' regenerate answer\u001b[0m [\u001b[0m\u001b[1m\u001b[34mdspy.primitives.assertions\u001b[0m]\u001b[0m \u001b[36mfilename\u001b[0m=\u001b[35massertions.py\u001b[0m \u001b[36mlineno\u001b[0m=\u001b[35m111\u001b[0m\n",
      "\u001b[32m2024-05-14 14:02:24.994\u001b[0m | \u001b[34m\u001b[1mDEBUG   \u001b[0m | \u001b[36mai_assistant.generator.qa\u001b[0m:\u001b[36mforward\u001b[0m:\u001b[36m36\u001b[0m - \u001b[34m\u001b[1mBefore assertion = Prediction(\n",
      "    answer='The Samkhya Yoga chapter, also known as the \"Book of Doctrines\" or \"Self-Realization,\" initiates the philosophical discussions and teachings found in the Bhagavad Gita. It addresses Arjuna\\'s doubts and introspection about the meaning and purpose of life as he faces a war he questions. Krishna, as his guide, imparts knowledge about the eternal nature of the soul (atman) and the temporary nature of the body. The chapter summarizes the Hindu idea of rebirth, samsara, the eternal self in each person (self), the universal self present in everyone, various types of yoga, divinity within, the nature of knowledge of the self, and other concepts. It provides a framework for the remaining sixteen chapters of the Bhagavad Gita and reflects the ideas and concepts of the Samkhya and Yoga schools of Hindu philosophy.'\n",
      ")\u001b[0m\n",
      "\u001b[2m2024-05-14T12:02:24.995644Z\u001b[0m [\u001b[31m\u001b[1merror    \u001b[0m] \u001b[1mSuggestionFailed: If answer begins with 'Context:' regenerate answer\u001b[0m [\u001b[0m\u001b[1m\u001b[34mdspy.primitives.assertions\u001b[0m]\u001b[0m \u001b[36mfilename\u001b[0m=\u001b[35massertions.py\u001b[0m \u001b[36mlineno\u001b[0m=\u001b[35m108\u001b[0m\n",
      "\u001b[32m2024-05-14 14:02:24.996\u001b[0m | \u001b[34m\u001b[1mDEBUG   \u001b[0m | \u001b[36mai_assistant.generator.qa\u001b[0m:\u001b[36mforward\u001b[0m:\u001b[36m41\u001b[0m - \u001b[34m\u001b[1mAfter context assertion = Prediction(\n",
      "    answer='The Samkhya Yoga chapter, also known as the \"Book of Doctrines\" or \"Self-Realization,\" initiates the philosophical discussions and teachings found in the Bhagavad Gita. It addresses Arjuna\\'s doubts and introspection about the meaning and purpose of life as he faces a war he questions. Krishna, as his guide, imparts knowledge about the eternal nature of the soul (atman) and the temporary nature of the body. The chapter summarizes the Hindu idea of rebirth, samsara, the eternal self in each person (self), the universal self present in everyone, various types of yoga, divinity within, the nature of knowledge of the self, and other concepts. It provides a framework for the remaining sixteen chapters of the Bhagavad Gita and reflects the ideas and concepts of the Samkhya and Yoga schools of Hindu philosophy.'\n",
      ")\u001b[0m\n",
      "\u001b[2m2024-05-14T12:02:24.997207Z\u001b[0m [\u001b[31m\u001b[1merror    \u001b[0m] \u001b[1mSuggestionFailed: If context is available then answer must not be empty or N/A\u001b[0m [\u001b[0m\u001b[1m\u001b[34mdspy.primitives.assertions\u001b[0m]\u001b[0m \u001b[36mfilename\u001b[0m=\u001b[35massertions.py\u001b[0m \u001b[36mlineno\u001b[0m=\u001b[35m108\u001b[0m\n",
      "\u001b[32m2024-05-14 14:02:24.997\u001b[0m | \u001b[34m\u001b[1mDEBUG   \u001b[0m | \u001b[36mai_assistant.generator.qa\u001b[0m:\u001b[36mforward\u001b[0m:\u001b[36m46\u001b[0m - \u001b[34m\u001b[1mAfter empty answer assertion = Prediction(\n",
      "    answer='The Samkhya Yoga chapter, also known as the \"Book of Doctrines\" or \"Self-Realization,\" initiates the philosophical discussions and teachings found in the Bhagavad Gita. It addresses Arjuna\\'s doubts and introspection about the meaning and purpose of life as he faces a war he questions. Krishna, as his guide, imparts knowledge about the eternal nature of the soul (atman) and the temporary nature of the body. The chapter summarizes the Hindu idea of rebirth, samsara, the eternal self in each person (self), the universal self present in everyone, various types of yoga, divinity within, the nature of knowledge of the self, and other concepts. It provides a framework for the remaining sixteen chapters of the Bhagavad Gita and reflects the ideas and concepts of the Samkhya and Yoga schools of Hindu philosophy.'\n",
      ")\u001b[0m\n"
     ]
    },
    {
     "name": "stdout",
     "output_type": "stream",
     "text": [
      "Response: \n",
      " The Samkhya Yoga chapter, also known as the \"Book of Doctrines\" or \"Self-Realization,\" initiates the philosophical discussions and teachings found in the Bhagavad Gita. It addresses Arjuna's doubts and introspection about the meaning and purpose of life as he faces a war he questions. Krishna, as his guide, imparts knowledge about the eternal nature of the soul (atman) and the temporary nature of the body. The chapter summarizes the Hindu idea of rebirth, samsara, the eternal self in each person (self), the universal self present in everyone, various types of yoga, divinity within, the nature of knowledge of the self, and other concepts. It provides a framework for the remaining sixteen chapters of the Bhagavad Gita and reflects the ideas and concepts of the Samkhya and Yoga schools of Hindu philosophy.\n",
      "\n"
     ]
    }
   ],
   "source": [
    "response = assistant(QUESTION)\n",
    "print(f\"Response: \\n {response.answer}\")\n",
    "print()"
   ]
  },
  {
   "cell_type": "code",
   "execution_count": 163,
   "metadata": {},
   "outputs": [
    {
     "data": {
      "text/plain": [
       "True"
      ]
     },
     "execution_count": 163,
     "metadata": {},
     "output_type": "execute_result"
    }
   ],
   "source": [
    "# samp1 = \"Context: ABCD\"\n",
    "# samp2 = \"**Context:**\"\n",
    "# reg = re.compile(r\"^Context:|^.*.*Context\")\n",
    "# bool(re.match(reg, samp1))"
   ]
  },
  {
   "cell_type": "code",
   "execution_count": 169,
   "metadata": {},
   "outputs": [
    {
     "name": "stdout",
     "output_type": "stream",
     "text": [
      "\n",
      "\n",
      "\n",
      "Answer the question within 200 words based on the given context.\n",
      "\n",
      "---\n",
      "\n",
      "Follow the following format.\n",
      "\n",
      "Context: may contain relevant facts\n",
      "\n",
      "Question: ${question}\n",
      "\n",
      "Past Answer: past output with errors\n",
      "\n",
      "Instructions: Some instructions you must satisfy\n",
      "\n",
      "Answer: concise, coherent and complete answer, based on context\n",
      "\n",
      "---\n",
      "\n",
      "Context:\n",
      "[1] «the bhagavad gita is referenced in the brahma sutras and numerous scholars wrote commentaries on it, including shankara, bhaskara, abhinavagupta, ramanuja, and madhvacharya. [ 310 ] [ 311 ] many of these commentators state that the gita is \" meant to be a moksa - shastra ( moksasatra ), and not a dharmasastra, an arthasastra or a kamasastra \". [ 312 ]»\n",
      "[2] «bhagavad gita integrates various schools of thought, notably vedanta, samkhya and yoga, and other theistic ideas. it remains a popular text for commentators belonging to various philosophical schools. however, its composite nature also leads to varying interpretations of the text and historic scholars have written bhashya ( commentaries ) on it. [ 306 ] according to mysore hiriyanna, the gita is \" one of the hardest books to interpret, which accounts for the numerous commentaries on it — each differing from the rest in one essential point or the other \". [ 307 ]»\n",
      "[3] «with its translation and study by western scholars beginning in the early 18th century, the bhagavad gita gained a growing appreciation and popularity. [ web 1 ]»\n",
      "\n",
      "Question: Which is described in the second chapter of the Bhagvada Gita?\n",
      "\n",
      "Past Answer: The second chapter of the Bhagavad Gita is titled \"The Yoga of Knowledge\" and expounds on the nature of the self, the world, and the relationship between the two. It delves into the concepts of the soul, the body, and the ultimate reality, exploring the true nature of existence and the path to liberation.\n",
      "\n",
      "Instructions: If answer begins with 'Context:' regenerate answer\n",
      "\n",
      "Answer:\u001b[32m The second chapter of the Bhagavad Gita is titled \"The Yoga of Knowledge\" and delves into profound philosophical concepts. It explores the nature of the self, the world, and the relationship between the two. Key themes in this chapter include the distinction between the eternal soul and the perishable body, the illusory nature of the material world, and the path to liberation through self-realization.\u001b[0m\n",
      "\n",
      "\n",
      "\n",
      "\n",
      "\n",
      "Answer the question within 200 words based on the given context.\n",
      "\n",
      "---\n",
      "\n",
      "Follow the following format.\n",
      "\n",
      "Context: may contain relevant facts\n",
      "\n",
      "Question: ${question}\n",
      "\n",
      "Reasoning: Let's think step by step in order to ${produce the answer}. We ...\n",
      "\n",
      "Answer: concise, coherent and complete answer, based on context\n",
      "\n",
      "---\n",
      "\n",
      "Context:\n",
      "[1] «the bhagavad gita is referenced in the brahma sutras and numerous scholars wrote commentaries on it, including shankara, bhaskara, abhinavagupta, ramanuja, and madhvacharya. [ 310 ] [ 311 ] many of these commentators state that the gita is \" meant to be a moksa - shastra ( moksasatra ), and not a dharmasastra, an arthasastra or a kamasastra \". [ 312 ]»\n",
      "[2] «bhagavad gita integrates various schools of thought, notably vedanta, samkhya and yoga, and other theistic ideas. it remains a popular text for commentators belonging to various philosophical schools. however, its composite nature also leads to varying interpretations of the text and historic scholars have written bhashya ( commentaries ) on it. [ 306 ] according to mysore hiriyanna, the gita is \" one of the hardest books to interpret, which accounts for the numerous commentaries on it — each differing from the rest in one essential point or the other \". [ 307 ]»\n",
      "[3] «with its translation and study by western scholars beginning in the early 18th century, the bhagavad gita gained a growing appreciation and popularity. [ web 1 ]»\n",
      "\n",
      "Question: Which is described in the third chapter of the Bhagvada Gita?\n",
      "\n",
      "Reasoning: Let's think step by step in order to\u001b[32m The provided text does not contain information about what is described in the third chapter of the Bhagavad Gita. Therefore, I cannot answer this question.\u001b[0m\n",
      "\n",
      "\n",
      "\n",
      "\n",
      "\n",
      "Answer the question within 200 words based on the given context.\n",
      "\n",
      "---\n",
      "\n",
      "Follow the following format.\n",
      "\n",
      "Context: may contain relevant facts\n",
      "\n",
      "Question: ${question}\n",
      "\n",
      "Reasoning: Let's think step by step in order to ${produce the answer}. We ...\n",
      "\n",
      "Answer: concise, coherent and complete answer, based on context\n",
      "\n",
      "---\n",
      "\n",
      "Context:\n",
      "[1] «the bhagavad gita is referenced in the brahma sutras and numerous scholars wrote commentaries on it, including shankara, bhaskara, abhinavagupta, ramanuja, and madhvacharya. [ 310 ] [ 311 ] many of these commentators state that the gita is \" meant to be a moksa - shastra ( moksasatra ), and not a dharmasastra, an arthasastra or a kamasastra \". [ 312 ]»\n",
      "[2] «bhagavad gita integrates various schools of thought, notably vedanta, samkhya and yoga, and other theistic ideas. it remains a popular text for commentators belonging to various philosophical schools. however, its composite nature also leads to varying interpretations of the text and historic scholars have written bhashya ( commentaries ) on it. [ 306 ] according to mysore hiriyanna, the gita is \" one of the hardest books to interpret, which accounts for the numerous commentaries on it — each differing from the rest in one essential point or the other \". [ 307 ]»\n",
      "[3] «with its translation and study by western scholars beginning in the early 18th century, the bhagavad gita gained a growing appreciation and popularity. [ web 1 ]»\n",
      "\n",
      "Question: Which is described in the third chapter of the Bhagvada Gita?\n",
      "\n",
      "Reasoning: Let's think step by step in order to The provided text does not contain information about what is described in the third chapter of the Bhagavad Gita. Therefore, I cannot answer this question.\n",
      "\n",
      "Answer:\u001b[32m Context:\n",
      "[1] «the bhagavad gita is referenced in the brahma sutras and numerous scholars wrote commentaries on it, including shankara, bhaskara, abhinavagupta, ramanuja, and madhvacharya. [ 310 ] [ 311 ] many of these commentators state that the gita is \"\u001b[0m\n",
      "\n",
      "\n",
      "\n",
      "\n",
      "\n",
      "Answer the question within 200 words based on the given context.\n",
      "\n",
      "---\n",
      "\n",
      "Follow the following format.\n",
      "\n",
      "Context: may contain relevant facts\n",
      "\n",
      "Question: ${question}\n",
      "\n",
      "Past Answer: past output with errors\n",
      "\n",
      "Instructions: Some instructions you must satisfy\n",
      "\n",
      "Answer: concise, coherent and complete answer, based on context\n",
      "\n",
      "---\n",
      "\n",
      "Context:\n",
      "[1] «the bhagavad gita is referenced in the brahma sutras and numerous scholars wrote commentaries on it, including shankara, bhaskara, abhinavagupta, ramanuja, and madhvacharya. [ 310 ] [ 311 ] many of these commentators state that the gita is \" meant to be a moksa - shastra ( moksasatra ), and not a dharmasastra, an arthasastra or a kamasastra \". [ 312 ]»\n",
      "[2] «bhagavad gita integrates various schools of thought, notably vedanta, samkhya and yoga, and other theistic ideas. it remains a popular text for commentators belonging to various philosophical schools. however, its composite nature also leads to varying interpretations of the text and historic scholars have written bhashya ( commentaries ) on it. [ 306 ] according to mysore hiriyanna, the gita is \" one of the hardest books to interpret, which accounts for the numerous commentaries on it — each differing from the rest in one essential point or the other \". [ 307 ]»\n",
      "[3] «with its translation and study by western scholars beginning in the early 18th century, the bhagavad gita gained a growing appreciation and popularity. [ web 1 ]»\n",
      "\n",
      "Question: Which is described in the third chapter of the Bhagvada Gita?\n",
      "\n",
      "Past Answer: Context: [1] «the bhagavad gita is referenced in the brahma sutras and numerous scholars wrote commentaries on it, including shankara, bhaskara, abhinavagupta, ramanuja, and madhvacharya. [ 310 ] [ 311 ] many of these commentators state that the gita is \"\n",
      "\n",
      "Instructions: If context is available then answer must not be empty or N/A\n",
      "\n",
      "Answer:\u001b[32m The provided text does not explicitly mention what is described in the third chapter of the Bhagavad Gita. Therefore, I cannot answer the question.\u001b[0m\n",
      "\n",
      "\n",
      "\n",
      "\n",
      "\n",
      "Answer the question within 200 words based on the given context.\n",
      "\n",
      "---\n",
      "\n",
      "Follow the following format.\n",
      "\n",
      "Context: may contain relevant facts\n",
      "\n",
      "Question: ${question}\n",
      "\n",
      "Past Answer: past output with errors\n",
      "\n",
      "Instructions: Some instructions you must satisfy\n",
      "\n",
      "Answer: concise, coherent and complete answer, based on context\n",
      "\n",
      "---\n",
      "\n",
      "Context:\n",
      "[1] «the bhagavad gita is referenced in the brahma sutras and numerous scholars wrote commentaries on it, including shankara, bhaskara, abhinavagupta, ramanuja, and madhvacharya. [ 310 ] [ 311 ] many of these commentators state that the gita is \" meant to be a moksa - shastra ( moksasatra ), and not a dharmasastra, an arthasastra or a kamasastra \". [ 312 ]»\n",
      "[2] «bhagavad gita integrates various schools of thought, notably vedanta, samkhya and yoga, and other theistic ideas. it remains a popular text for commentators belonging to various philosophical schools. however, its composite nature also leads to varying interpretations of the text and historic scholars have written bhashya ( commentaries ) on it. [ 306 ] according to mysore hiriyanna, the gita is \" one of the hardest books to interpret, which accounts for the numerous commentaries on it — each differing from the rest in one essential point or the other \". [ 307 ]»\n",
      "[3] «with its translation and study by western scholars beginning in the early 18th century, the bhagavad gita gained a growing appreciation and popularity. [ web 1 ]»\n",
      "\n",
      "Question: Which is described in the third chapter of the Bhagvada Gita?\n",
      "\n",
      "Past Answer: The provided text does not explicitly mention what is described in the third chapter of the Bhagavad Gita. Therefore, I cannot answer the question.\n",
      "\n",
      "Instructions:\n",
      "If context is available then answer must not be empty or N/A\n",
      "If answer begins with 'Context:' regenerate answer\n",
      "\n",
      "Answer:\u001b[32m Answer: The provided text does not explicitly mention what is described in the third chapter of the Bhagavad Gita. Therefore, I cannot answer the question.\u001b[0m\n",
      "\n",
      "\n",
      "\n"
     ]
    },
    {
     "data": {
      "text/plain": [
       "'\\n\\n\\nAnswer the question within 200 words based on the given context.\\n\\n---\\n\\nFollow the following format.\\n\\nContext: may contain relevant facts\\n\\nQuestion: ${question}\\n\\nPast Answer: past output with errors\\n\\nInstructions: Some instructions you must satisfy\\n\\nAnswer: concise, coherent and complete answer, based on context\\n\\n---\\n\\nContext:\\n[1] «the bhagavad gita is referenced in the brahma sutras and numerous scholars wrote commentaries on it, including shankara, bhaskara, abhinavagupta, ramanuja, and madhvacharya. [ 310 ] [ 311 ] many of these commentators state that the gita is \" meant to be a moksa - shastra ( moksasatra ), and not a dharmasastra, an arthasastra or a kamasastra \". [ 312 ]»\\n[2] «bhagavad gita integrates various schools of thought, notably vedanta, samkhya and yoga, and other theistic ideas. it remains a popular text for commentators belonging to various philosophical schools. however, its composite nature also leads to varying interpretations of the text and historic scholars have written bhashya ( commentaries ) on it. [ 306 ] according to mysore hiriyanna, the gita is \" one of the hardest books to interpret, which accounts for the numerous commentaries on it — each differing from the rest in one essential point or the other \". [ 307 ]»\\n[3] «with its translation and study by western scholars beginning in the early 18th century, the bhagavad gita gained a growing appreciation and popularity. [ web 1 ]»\\n\\nQuestion: Which is described in the second chapter of the Bhagvada Gita?\\n\\nPast Answer: The second chapter of the Bhagavad Gita is titled \"The Yoga of Knowledge\" and expounds on the nature of the self, the world, and the relationship between the two. It delves into the concepts of the soul, the body, and the ultimate reality, exploring the true nature of existence and the path to liberation.\\n\\nInstructions: If answer begins with \\'Context:\\' regenerate answer\\n\\nAnswer:\\x1b[32m The second chapter of the Bhagavad Gita is titled \"The Yoga of Knowledge\" and delves into profound philosophical concepts. It explores the nature of the self, the world, and the relationship between the two. Key themes in this chapter include the distinction between the eternal soul and the perishable body, the illusory nature of the material world, and the path to liberation through self-realization.\\x1b[0m\\n\\n\\n\\n\\n\\nAnswer the question within 200 words based on the given context.\\n\\n---\\n\\nFollow the following format.\\n\\nContext: may contain relevant facts\\n\\nQuestion: ${question}\\n\\nReasoning: Let\\'s think step by step in order to ${produce the answer}. We ...\\n\\nAnswer: concise, coherent and complete answer, based on context\\n\\n---\\n\\nContext:\\n[1] «the bhagavad gita is referenced in the brahma sutras and numerous scholars wrote commentaries on it, including shankara, bhaskara, abhinavagupta, ramanuja, and madhvacharya. [ 310 ] [ 311 ] many of these commentators state that the gita is \" meant to be a moksa - shastra ( moksasatra ), and not a dharmasastra, an arthasastra or a kamasastra \". [ 312 ]»\\n[2] «bhagavad gita integrates various schools of thought, notably vedanta, samkhya and yoga, and other theistic ideas. it remains a popular text for commentators belonging to various philosophical schools. however, its composite nature also leads to varying interpretations of the text and historic scholars have written bhashya ( commentaries ) on it. [ 306 ] according to mysore hiriyanna, the gita is \" one of the hardest books to interpret, which accounts for the numerous commentaries on it — each differing from the rest in one essential point or the other \". [ 307 ]»\\n[3] «with its translation and study by western scholars beginning in the early 18th century, the bhagavad gita gained a growing appreciation and popularity. [ web 1 ]»\\n\\nQuestion: Which is described in the third chapter of the Bhagvada Gita?\\n\\nReasoning: Let\\'s think step by step in order to\\x1b[32m The provided text does not contain information about what is described in the third chapter of the Bhagavad Gita. Therefore, I cannot answer this question.\\x1b[0m\\n\\n\\n\\n\\n\\nAnswer the question within 200 words based on the given context.\\n\\n---\\n\\nFollow the following format.\\n\\nContext: may contain relevant facts\\n\\nQuestion: ${question}\\n\\nReasoning: Let\\'s think step by step in order to ${produce the answer}. We ...\\n\\nAnswer: concise, coherent and complete answer, based on context\\n\\n---\\n\\nContext:\\n[1] «the bhagavad gita is referenced in the brahma sutras and numerous scholars wrote commentaries on it, including shankara, bhaskara, abhinavagupta, ramanuja, and madhvacharya. [ 310 ] [ 311 ] many of these commentators state that the gita is \" meant to be a moksa - shastra ( moksasatra ), and not a dharmasastra, an arthasastra or a kamasastra \". [ 312 ]»\\n[2] «bhagavad gita integrates various schools of thought, notably vedanta, samkhya and yoga, and other theistic ideas. it remains a popular text for commentators belonging to various philosophical schools. however, its composite nature also leads to varying interpretations of the text and historic scholars have written bhashya ( commentaries ) on it. [ 306 ] according to mysore hiriyanna, the gita is \" one of the hardest books to interpret, which accounts for the numerous commentaries on it — each differing from the rest in one essential point or the other \". [ 307 ]»\\n[3] «with its translation and study by western scholars beginning in the early 18th century, the bhagavad gita gained a growing appreciation and popularity. [ web 1 ]»\\n\\nQuestion: Which is described in the third chapter of the Bhagvada Gita?\\n\\nReasoning: Let\\'s think step by step in order to The provided text does not contain information about what is described in the third chapter of the Bhagavad Gita. Therefore, I cannot answer this question.\\n\\nAnswer:\\x1b[32m Context:\\n[1] «the bhagavad gita is referenced in the brahma sutras and numerous scholars wrote commentaries on it, including shankara, bhaskara, abhinavagupta, ramanuja, and madhvacharya. [ 310 ] [ 311 ] many of these commentators state that the gita is \"\\x1b[0m\\n\\n\\n\\n\\n\\nAnswer the question within 200 words based on the given context.\\n\\n---\\n\\nFollow the following format.\\n\\nContext: may contain relevant facts\\n\\nQuestion: ${question}\\n\\nPast Answer: past output with errors\\n\\nInstructions: Some instructions you must satisfy\\n\\nAnswer: concise, coherent and complete answer, based on context\\n\\n---\\n\\nContext:\\n[1] «the bhagavad gita is referenced in the brahma sutras and numerous scholars wrote commentaries on it, including shankara, bhaskara, abhinavagupta, ramanuja, and madhvacharya. [ 310 ] [ 311 ] many of these commentators state that the gita is \" meant to be a moksa - shastra ( moksasatra ), and not a dharmasastra, an arthasastra or a kamasastra \". [ 312 ]»\\n[2] «bhagavad gita integrates various schools of thought, notably vedanta, samkhya and yoga, and other theistic ideas. it remains a popular text for commentators belonging to various philosophical schools. however, its composite nature also leads to varying interpretations of the text and historic scholars have written bhashya ( commentaries ) on it. [ 306 ] according to mysore hiriyanna, the gita is \" one of the hardest books to interpret, which accounts for the numerous commentaries on it — each differing from the rest in one essential point or the other \". [ 307 ]»\\n[3] «with its translation and study by western scholars beginning in the early 18th century, the bhagavad gita gained a growing appreciation and popularity. [ web 1 ]»\\n\\nQuestion: Which is described in the third chapter of the Bhagvada Gita?\\n\\nPast Answer: Context: [1] «the bhagavad gita is referenced in the brahma sutras and numerous scholars wrote commentaries on it, including shankara, bhaskara, abhinavagupta, ramanuja, and madhvacharya. [ 310 ] [ 311 ] many of these commentators state that the gita is \"\\n\\nInstructions: If context is available then answer must not be empty or N/A\\n\\nAnswer:\\x1b[32m The provided text does not explicitly mention what is described in the third chapter of the Bhagavad Gita. Therefore, I cannot answer the question.\\x1b[0m\\n\\n\\n\\n\\n\\nAnswer the question within 200 words based on the given context.\\n\\n---\\n\\nFollow the following format.\\n\\nContext: may contain relevant facts\\n\\nQuestion: ${question}\\n\\nPast Answer: past output with errors\\n\\nInstructions: Some instructions you must satisfy\\n\\nAnswer: concise, coherent and complete answer, based on context\\n\\n---\\n\\nContext:\\n[1] «the bhagavad gita is referenced in the brahma sutras and numerous scholars wrote commentaries on it, including shankara, bhaskara, abhinavagupta, ramanuja, and madhvacharya. [ 310 ] [ 311 ] many of these commentators state that the gita is \" meant to be a moksa - shastra ( moksasatra ), and not a dharmasastra, an arthasastra or a kamasastra \". [ 312 ]»\\n[2] «bhagavad gita integrates various schools of thought, notably vedanta, samkhya and yoga, and other theistic ideas. it remains a popular text for commentators belonging to various philosophical schools. however, its composite nature also leads to varying interpretations of the text and historic scholars have written bhashya ( commentaries ) on it. [ 306 ] according to mysore hiriyanna, the gita is \" one of the hardest books to interpret, which accounts for the numerous commentaries on it — each differing from the rest in one essential point or the other \". [ 307 ]»\\n[3] «with its translation and study by western scholars beginning in the early 18th century, the bhagavad gita gained a growing appreciation and popularity. [ web 1 ]»\\n\\nQuestion: Which is described in the third chapter of the Bhagvada Gita?\\n\\nPast Answer: The provided text does not explicitly mention what is described in the third chapter of the Bhagavad Gita. Therefore, I cannot answer the question.\\n\\nInstructions:\\nIf context is available then answer must not be empty or N/A\\nIf answer begins with \\'Context:\\' regenerate answer\\n\\nAnswer:\\x1b[32m Answer: The provided text does not explicitly mention what is described in the third chapter of the Bhagavad Gita. Therefore, I cannot answer the question.\\x1b[0m\\n\\n\\n'"
      ]
     },
     "execution_count": 169,
     "metadata": {},
     "output_type": "execute_result"
    }
   ],
   "source": [
    "gemini.inspect_history(5)"
   ]
  },
  {
   "cell_type": "code",
   "execution_count": null,
   "metadata": {},
   "outputs": [],
   "source": []
  }
 ],
 "metadata": {
  "kernelspec": {
   "display_name": "ai-assistant-gfWmchf1-py3.11",
   "language": "python",
   "name": "python3"
  },
  "language_info": {
   "codemirror_mode": {
    "name": "ipython",
    "version": 3
   },
   "file_extension": ".py",
   "mimetype": "text/x-python",
   "name": "python",
   "nbconvert_exporter": "python",
   "pygments_lexer": "ipython3",
   "version": "3.11.9"
  }
 },
 "nbformat": 4,
 "nbformat_minor": 2
}

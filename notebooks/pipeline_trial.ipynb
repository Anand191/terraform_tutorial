{
 "cells": [
  {
   "cell_type": "markdown",
   "metadata": {},
   "source": [
    "# NB for testing whole pipeline"
   ]
  },
  {
   "cell_type": "code",
   "execution_count": 17,
   "metadata": {},
   "outputs": [
    {
     "name": "stdout",
     "output_type": "stream",
     "text": [
      "The autoreload extension is already loaded. To reload it, use:\n",
      "  %reload_ext autoreload\n"
     ]
    }
   ],
   "source": [
    "%load_ext autoreload\n",
    "%autoreload 2\n",
    "\n",
    "import re\n",
    "\n",
    "from loguru import logger\n",
    "\n",
    "from ai_assistant.main import store_webpage\n",
    "from ai_assistant.utils.db_utils import collection_cache\n",
    "from ai_assistant.generator import init_gemini_pro\n",
    "from ai_assistant.generator.qa import wiki_assistant"
   ]
  },
  {
   "cell_type": "markdown",
   "metadata": {},
   "source": [
    "## Define some constants to facilitate testing"
   ]
  },
  {
   "cell_type": "code",
   "execution_count": 3,
   "metadata": {},
   "outputs": [],
   "source": [
    "URL = \"https://en.wikipedia.org/wiki/Bhagavad_Gita\"\n",
    "URL_LOCAL = URL.split(\"/\")[-1]\n",
    "URL_LOCAL = re.sub(r\"\\W+\", \"\", URL_LOCAL)\n",
    "CHROMA_COLLECTION_NAME = f\"wiki_{URL_LOCAL}\"\n",
    "CHROMADB_DIR = \"../db/\"\n",
    "UPDATE = False"
   ]
  },
  {
   "cell_type": "markdown",
   "metadata": {},
   "source": [
    "## Index URL if not already indexed\n",
    "Check if data from this wiki page already indexed or if update is enabled\n",
    "If not following steps:\n",
    "- Crawl data from wiki page\n",
    "- Index to vector db collection\n",
    "- Cache indexing infor to redis"
   ]
  },
  {
   "cell_type": "code",
   "execution_count": 5,
   "metadata": {},
   "outputs": [
    {
     "name": "stderr",
     "output_type": "stream",
     "text": [
      "\u001b[32m2024-05-11 15:33:22.435\u001b[0m | \u001b[1mINFO    \u001b[0m | \u001b[36m__main__\u001b[0m:\u001b[36m<module>\u001b[0m:\u001b[36m2\u001b[0m - \u001b[1mCheck if data from this wiki page already indexed\u001b[0m\n"
     ]
    }
   ],
   "source": [
    "\n",
    "conn = collection_cache()\n",
    "logger.info(\"Check if data from this wiki page already indexed\")\n",
    "if not conn.check(URL) or UPDATE:\n",
    "    logger.info(f\"(re)indexing data from {URL}\")\n",
    "    store_webpage(URL, CHROMA_COLLECTION_NAME, CHROMADB_DIR)"
   ]
  },
  {
   "cell_type": "markdown",
   "metadata": {},
   "source": [
    "## Ask Question(s)"
   ]
  },
  {
   "cell_type": "code",
   "execution_count": 6,
   "metadata": {},
   "outputs": [],
   "source": [
    "QUESTION = \"What is the spiritual significance of the Bhagavad Gita?\""
   ]
  },
  {
   "cell_type": "code",
   "execution_count": 18,
   "metadata": {},
   "outputs": [
    {
     "name": "stderr",
     "output_type": "stream",
     "text": [
      "\u001b[32m2024-05-11 15:46:31.419\u001b[0m | \u001b[1mINFO    \u001b[0m | \u001b[36m__main__\u001b[0m:\u001b[36m<module>\u001b[0m:\u001b[36m6\u001b[0m - \u001b[1mAsk questions based on the wiki page about Bhagavad_Gita.\u001b[0m\n"
     ]
    }
   ],
   "source": [
    "# Init Generator\n",
    "gemini = init_gemini_pro(temperature=0.2)\n",
    "assistant = wiki_assistant(\n",
    "        retriver_collection=CHROMA_COLLECTION_NAME, database_loc=CHROMADB_DIR\n",
    "    )\n",
    "logger.info(f\"Ask questions based on the wiki page about {URL_LOCAL}.\")"
   ]
  },
  {
   "cell_type": "code",
   "execution_count": 19,
   "metadata": {},
   "outputs": [
    {
     "name": "stdout",
     "output_type": "stream",
     "text": [
      "Response: \n",
      " Context: [{'id': 'pid_106#0', 'score': 0.3875558964274768, 'long_text': 'with its translation and study by western scholars beginning in the early 18th century, the bhagavad gita gained a growing appreciation and popularity. [\n",
      "\n"
     ]
    }
   ],
   "source": [
    "response = assistant(QUESTION)\n",
    "print(f\"Response: \\n {response}\")\n",
    "print()"
   ]
  },
  {
   "cell_type": "code",
   "execution_count": 20,
   "metadata": {},
   "outputs": [
    {
     "name": "stdout",
     "output_type": "stream",
     "text": [
      "\n",
      "\n",
      "\n",
      "Given the fields `context`, `question`, produce the fields `answer`.\n",
      "\n",
      "---\n",
      "\n",
      "Follow the following format.\n",
      "\n",
      "Context: ${context}\n",
      "\n",
      "Question: ${question}\n",
      "\n",
      "Reasoning: Let's think step by step in order to ${produce the answer}. We ...\n",
      "\n",
      "Answer: ${answer}\n",
      "\n",
      "---\n",
      "\n",
      "Context: [{'id': 'pid_106#0', 'score': 0.3875558964274768, 'long_text': 'with its translation and study by western scholars beginning in the early 18th century, the bhagavad gita gained a growing appreciation and popularity. [ web 1 ]', 'metadatas': {'source': 'https://en.wikipedia.org/wiki/Bhagavad_Gita', 'title': 'Reception'}}, {'id': 'pid_92#0', 'score': 0.45634493231773376, 'long_text': 'the bhagavad gita is referenced in the brahma sutras and numerous scholars wrote commentaries on it, including shankara, bhaskara, abhinavagupta, ramanuja, and madhvacharya. [ 310 ] [ 311 ] many of these commentators state that the gita is \" meant to be a moksa - shastra ( moksasatra ), and not a dharmasastra, an arthasastra or a kamasastra \". [ 312 ]', 'metadatas': {'source': 'https://en.wikipedia.org/wiki/Bhagavad_Gita', 'title': 'Bhashya_.28commentaries.29'}}, {'id': 'pid_11#0', 'score': 0.5058025121688843, 'long_text': \"the bhagavad gita draws heavily from the philosophical ideas presented in the upanishads, incorporating and expanding upon them throughout the text. for example, in the bhagavad gita's second chapter, krishna explains to arjuna about the eternal nature of the soul, a concept echoed from the katha upanishad. it talks about the concept of karma yoga, mentioned in the isha upanishad, and ideal times for departing from life, echoing teachings from the chandogya upanishad. [ 69 ]\", 'metadatas': {'source': 'https://en.wikipedia.org/wiki/Bhagavad_Gita', 'title': 'Scriptural_significance'}}]\n",
      "\n",
      "Question: What is the spiritual significance of the Bhagavad Gita?\n",
      "\n",
      "Reasoning: Let's think step by step in order to Answer: The Bhagavad Gita is considered a spiritual text of great significance in the Hindu religion. It draws inspiration from the philosophical ideas presented in the Upanishads and expands upon concepts such as the eternal nature of the soul, karma yoga, and ideal times for departing from life.\n",
      "\n",
      "Answer:\u001b[32m Context: [{'id': 'pid_106#0', 'score': 0.3875558964274768, 'long_text': 'with its translation and study by western scholars beginning in the early 18th century, the bhagavad gita gained a growing appreciation and popularity. [\u001b[0m\n",
      "\n",
      "\n",
      "\n"
     ]
    },
    {
     "data": {
      "text/plain": [
       "'\\n\\n\\nGiven the fields `context`, `question`, produce the fields `answer`.\\n\\n---\\n\\nFollow the following format.\\n\\nContext: ${context}\\n\\nQuestion: ${question}\\n\\nReasoning: Let\\'s think step by step in order to ${produce the answer}. We ...\\n\\nAnswer: ${answer}\\n\\n---\\n\\nContext: [{\\'id\\': \\'pid_106#0\\', \\'score\\': 0.3875558964274768, \\'long_text\\': \\'with its translation and study by western scholars beginning in the early 18th century, the bhagavad gita gained a growing appreciation and popularity. [ web 1 ]\\', \\'metadatas\\': {\\'source\\': \\'https://en.wikipedia.org/wiki/Bhagavad_Gita\\', \\'title\\': \\'Reception\\'}}, {\\'id\\': \\'pid_92#0\\', \\'score\\': 0.45634493231773376, \\'long_text\\': \\'the bhagavad gita is referenced in the brahma sutras and numerous scholars wrote commentaries on it, including shankara, bhaskara, abhinavagupta, ramanuja, and madhvacharya. [ 310 ] [ 311 ] many of these commentators state that the gita is \" meant to be a moksa - shastra ( moksasatra ), and not a dharmasastra, an arthasastra or a kamasastra \". [ 312 ]\\', \\'metadatas\\': {\\'source\\': \\'https://en.wikipedia.org/wiki/Bhagavad_Gita\\', \\'title\\': \\'Bhashya_.28commentaries.29\\'}}, {\\'id\\': \\'pid_11#0\\', \\'score\\': 0.5058025121688843, \\'long_text\\': \"the bhagavad gita draws heavily from the philosophical ideas presented in the upanishads, incorporating and expanding upon them throughout the text. for example, in the bhagavad gita\\'s second chapter, krishna explains to arjuna about the eternal nature of the soul, a concept echoed from the katha upanishad. it talks about the concept of karma yoga, mentioned in the isha upanishad, and ideal times for departing from life, echoing teachings from the chandogya upanishad. [ 69 ]\", \\'metadatas\\': {\\'source\\': \\'https://en.wikipedia.org/wiki/Bhagavad_Gita\\', \\'title\\': \\'Scriptural_significance\\'}}]\\n\\nQuestion: What is the spiritual significance of the Bhagavad Gita?\\n\\nReasoning: Let\\'s think step by step in order to Answer: The Bhagavad Gita is considered a spiritual text of great significance in the Hindu religion. It draws inspiration from the philosophical ideas presented in the Upanishads and expands upon concepts such as the eternal nature of the soul, karma yoga, and ideal times for departing from life.\\n\\nAnswer:\\x1b[32m Context: [{\\'id\\': \\'pid_106#0\\', \\'score\\': 0.3875558964274768, \\'long_text\\': \\'with its translation and study by western scholars beginning in the early 18th century, the bhagavad gita gained a growing appreciation and popularity. [\\x1b[0m\\n\\n\\n'"
      ]
     },
     "execution_count": 20,
     "metadata": {},
     "output_type": "execute_result"
    }
   ],
   "source": [
    "gemini.inspect_history(1)"
   ]
  },
  {
   "cell_type": "code",
   "execution_count": null,
   "metadata": {},
   "outputs": [],
   "source": []
  }
 ],
 "metadata": {
  "kernelspec": {
   "display_name": "ai-assistant-gfWmchf1-py3.11",
   "language": "python",
   "name": "python3"
  },
  "language_info": {
   "codemirror_mode": {
    "name": "ipython",
    "version": 3
   },
   "file_extension": ".py",
   "mimetype": "text/x-python",
   "name": "python",
   "nbconvert_exporter": "python",
   "pygments_lexer": "ipython3",
   "version": "3.11.9"
  }
 },
 "nbformat": 4,
 "nbformat_minor": 2
}
